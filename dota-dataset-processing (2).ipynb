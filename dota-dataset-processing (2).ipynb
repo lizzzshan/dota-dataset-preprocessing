{
 "cells": [
  {
   "cell_type": "code",
   "execution_count": 1,
   "id": "4f2f509e",
   "metadata": {
    "_cell_guid": "b1076dfc-b9ad-4769-8c92-a6c4dae69d19",
    "_uuid": "8f2839f25d086af736a60e9eeb907d3b93b6e0e5",
    "execution": {
     "iopub.execute_input": "2023-08-30T17:55:59.004706Z",
     "iopub.status.busy": "2023-08-30T17:55:59.004322Z",
     "iopub.status.idle": "2023-08-30T17:55:59.030822Z",
     "shell.execute_reply": "2023-08-30T17:55:59.029666Z"
    },
    "papermill": {
     "duration": 0.038729,
     "end_time": "2023-08-30T17:55:59.032984",
     "exception": false,
     "start_time": "2023-08-30T17:55:58.994255",
     "status": "completed"
    },
    "tags": []
   },
   "outputs": [
    {
     "name": "stdout",
     "output_type": "stream",
     "text": [
      "/kaggle/input/dota-dataset/1614507_events.jsonl\n",
      "/kaggle/input/dota-dataset/1598060_state.json\n",
      "/kaggle/input/dota-dataset/1614507_state.json\n",
      "/kaggle/input/dota-dataset/1597139_events.jsonl\n",
      "/kaggle/input/dota-dataset/1597139_state.json\n",
      "/kaggle/input/dota-dataset/1598060_events.jsonl\n"
     ]
    }
   ],
   "source": [
    "# This Python 3 environment comes with many helpful analytics libraries installed\n",
    "# It is defined by the kaggle/python Docker image: https://github.com/kaggle/docker-python\n",
    "# For example, here's several helpful packages to load\n",
    "\n",
    "import numpy as np # linear algebra\n",
    "import pandas as pd # data processing, CSV file I/O (e.g. pd.read_csv)\n",
    "import json\n",
    "%matplotlib inline\n",
    "\n",
    "# Input data files are available in the read-only \"../input/\" directory\n",
    "# For example, running this (by clicking run or pressing Shift+Enter) will list all files under the input directory\n",
    "\n",
    "import os\n",
    "for dirname, _, filenames in os.walk('/kaggle/input'):\n",
    "    for filename in filenames:\n",
    "        print(os.path.join(dirname, filename))\n",
    "\n",
    "# You can write up to 20GB to the current directory (/kaggle/working/) that gets preserved as output when you create a version using \"Save & Run All\" \n",
    "# You can also write temporary files to /kaggle/temp/, but they won't be saved outside of the current session"
   ]
  },
  {
   "cell_type": "code",
   "execution_count": 2,
   "id": "34da6054",
   "metadata": {
    "execution": {
     "iopub.execute_input": "2023-08-30T17:55:59.049392Z",
     "iopub.status.busy": "2023-08-30T17:55:59.049101Z",
     "iopub.status.idle": "2023-08-30T17:56:34.664806Z",
     "shell.execute_reply": "2023-08-30T17:56:34.663735Z"
    },
    "papermill": {
     "duration": 35.626706,
     "end_time": "2023-08-30T17:56:34.667300",
     "exception": false,
     "start_time": "2023-08-30T17:55:59.040594",
     "status": "completed"
    },
    "tags": []
   },
   "outputs": [],
   "source": [
    "data_file = \"../input/dota-dataset/1614507_events.jsonl\"\n",
    "with open(data_file) as f:\n",
    "    lines = f.read().splitlines()\n",
    "\n",
    "line_dicts = [json.loads(line) for line in lines]\n",
    "df = pd.DataFrame(line_dicts)"
   ]
  },
  {
   "cell_type": "code",
   "execution_count": 3,
   "id": "32e878a4",
   "metadata": {
    "execution": {
     "iopub.execute_input": "2023-08-30T17:56:34.684907Z",
     "iopub.status.busy": "2023-08-30T17:56:34.684008Z",
     "iopub.status.idle": "2023-08-30T18:00:51.244942Z",
     "shell.execute_reply": "2023-08-30T18:00:51.243882Z"
    },
    "papermill": {
     "duration": 256.572603,
     "end_time": "2023-08-30T18:00:51.247777",
     "exception": false,
     "start_time": "2023-08-30T17:56:34.675174",
     "status": "completed"
    },
    "tags": []
   },
   "outputs": [],
   "source": [
    "# Parsing the data set and creating a dataframe named events \n",
    "events = pd.DataFrame()\n",
    "for index, row in df.iterrows():\n",
    "    events = pd.concat([events,pd.json_normalize(row['events'][0])])\n",
    "events.reset_index(drop=True,inplace=True)  "
   ]
  },
  {
   "cell_type": "markdown",
   "id": "4e5dc6e0",
   "metadata": {
    "papermill": {
     "duration": 0.007345,
     "end_time": "2023-08-30T18:00:51.263058",
     "exception": false,
     "start_time": "2023-08-30T18:00:51.255713",
     "status": "completed"
    },
    "tags": []
   },
   "source": [
    "# 1. Which champions had the most kills per game? "
   ]
  },
  {
   "cell_type": "code",
   "execution_count": 4,
   "id": "98f60afe",
   "metadata": {
    "execution": {
     "iopub.execute_input": "2023-08-30T18:00:51.280786Z",
     "iopub.status.busy": "2023-08-30T18:00:51.279879Z",
     "iopub.status.idle": "2023-08-30T18:00:51.307485Z",
     "shell.execute_reply": "2023-08-30T18:00:51.306485Z"
    },
    "papermill": {
     "duration": 0.038895,
     "end_time": "2023-08-30T18:00:51.310038",
     "exception": false,
     "start_time": "2023-08-30T18:00:51.271143",
     "status": "completed"
    },
    "tags": []
   },
   "outputs": [
    {
     "data": {
      "text/html": [
       "<div>\n",
       "<style scoped>\n",
       "    .dataframe tbody tr th:only-of-type {\n",
       "        vertical-align: middle;\n",
       "    }\n",
       "\n",
       "    .dataframe tbody tr th {\n",
       "        vertical-align: top;\n",
       "    }\n",
       "\n",
       "    .dataframe thead th {\n",
       "        text-align: right;\n",
       "    }\n",
       "</style>\n",
       "<table border=\"1\" class=\"dataframe\">\n",
       "  <thead>\n",
       "    <tr style=\"text-align: right;\">\n",
       "      <th></th>\n",
       "      <th>actor.state.game.kills</th>\n",
       "    </tr>\n",
       "    <tr>\n",
       "      <th>actor.state.game.character.name</th>\n",
       "      <th></th>\n",
       "    </tr>\n",
       "  </thead>\n",
       "  <tbody>\n",
       "    <tr>\n",
       "      <th>faceless void</th>\n",
       "      <td>5.775061</td>\n",
       "    </tr>\n",
       "    <tr>\n",
       "      <th>troll warlord</th>\n",
       "      <td>4.296460</td>\n",
       "    </tr>\n",
       "    <tr>\n",
       "      <th>puck</th>\n",
       "      <td>4.047619</td>\n",
       "    </tr>\n",
       "    <tr>\n",
       "      <th>zuus</th>\n",
       "      <td>3.786957</td>\n",
       "    </tr>\n",
       "    <tr>\n",
       "      <th>brewmaster</th>\n",
       "      <td>3.069364</td>\n",
       "    </tr>\n",
       "    <tr>\n",
       "      <th>pudge</th>\n",
       "      <td>2.646341</td>\n",
       "    </tr>\n",
       "    <tr>\n",
       "      <th>dazzle</th>\n",
       "      <td>2.521898</td>\n",
       "    </tr>\n",
       "    <tr>\n",
       "      <th>pangolier</th>\n",
       "      <td>2.318725</td>\n",
       "    </tr>\n",
       "    <tr>\n",
       "      <th>nyx assassin</th>\n",
       "      <td>2.181818</td>\n",
       "    </tr>\n",
       "    <tr>\n",
       "      <th>storm spirit</th>\n",
       "      <td>2.123656</td>\n",
       "    </tr>\n",
       "  </tbody>\n",
       "</table>\n",
       "</div>"
      ],
      "text/plain": [
       "                                 actor.state.game.kills\n",
       "actor.state.game.character.name                        \n",
       "faceless void                                  5.775061\n",
       "troll warlord                                  4.296460\n",
       "puck                                           4.047619\n",
       "zuus                                           3.786957\n",
       "brewmaster                                     3.069364\n",
       "pudge                                          2.646341\n",
       "dazzle                                         2.521898\n",
       "pangolier                                      2.318725\n",
       "nyx assassin                                   2.181818\n",
       "storm spirit                                   2.123656"
      ]
     },
     "execution_count": 4,
     "metadata": {},
     "output_type": "execute_result"
    }
   ],
   "source": [
    "# Select character name and kills columns only, drop the other columns\n",
    "new_df = events.loc[:, ['actor.state.game.character.name', 'actor.state.game.kills']]\n",
    "\n",
    "\n",
    "# Group the new dataframe by mean amt of kills per character\n",
    "kills_avg = new_df.groupby(['actor.state.game.character.name']).mean()\n",
    "\n",
    "# Sort the grouped DF by kills \n",
    "char_kills_sort =  kills_avg.sort_values(by = 'actor.state.game.kills' ,ascending=False)\n",
    "top_ten_kills = char_kills_sort.head(10)\n",
    "top_ten_kills\n"
   ]
  },
  {
   "cell_type": "markdown",
   "id": "7a6d4df9",
   "metadata": {
    "papermill": {
     "duration": 0.007507,
     "end_time": "2023-08-30T18:00:51.325991",
     "exception": false,
     "start_time": "2023-08-30T18:00:51.318484",
     "status": "completed"
    },
    "tags": []
   },
   "source": [
    "## 1.1 Top 10 characters with the highest mean count of kills per game"
   ]
  },
  {
   "cell_type": "code",
   "execution_count": 5,
   "id": "36d8cfa2",
   "metadata": {
    "_kg_hide-input": true,
    "execution": {
     "iopub.execute_input": "2023-08-30T18:00:51.342881Z",
     "iopub.status.busy": "2023-08-30T18:00:51.342166Z",
     "iopub.status.idle": "2023-08-30T18:00:51.718881Z",
     "shell.execute_reply": "2023-08-30T18:00:51.717987Z"
    },
    "papermill": {
     "duration": 0.38743,
     "end_time": "2023-08-30T18:00:51.720959",
     "exception": false,
     "start_time": "2023-08-30T18:00:51.333529",
     "status": "completed"
    },
    "tags": []
   },
   "outputs": [
    {
     "data": {
      "text/plain": [
       "<Axes: xlabel='actor.state.game.character.name'>"
      ]
     },
     "execution_count": 5,
     "metadata": {},
     "output_type": "execute_result"
    },
    {
     "data": {
      "image/png": "[encoded data removed]",
      "text/plain": [
       "<Figure size 1000x600 with 1 Axes>"
      ]
     },
     "metadata": {},
     "output_type": "display_data"
    }
   ],
   "source": [
    "# Using Pandas to plot bar chart\n",
    "top_ten_kills.plot.bar(figsize = (10, 6))"
   ]
  },
  {
   "cell_type": "markdown",
   "id": "3c201f91",
   "metadata": {
    "papermill": {
     "duration": 0.008097,
     "end_time": "2023-08-30T18:00:51.737659",
     "exception": false,
     "start_time": "2023-08-30T18:00:51.729562",
     "status": "completed"
    },
    "tags": []
   },
   "source": [
    "# 2. Which champions had the most deaths per game? "
   ]
  },
  {
   "cell_type": "code",
   "execution_count": 6,
   "id": "c7eb9235",
   "metadata": {
    "execution": {
     "iopub.execute_input": "2023-08-30T18:00:51.755793Z",
     "iopub.status.busy": "2023-08-30T18:00:51.755146Z",
     "iopub.status.idle": "2023-08-30T18:00:51.771754Z",
     "shell.execute_reply": "2023-08-30T18:00:51.770732Z"
    },
    "papermill": {
     "duration": 0.028294,
     "end_time": "2023-08-30T18:00:51.774211",
     "exception": false,
     "start_time": "2023-08-30T18:00:51.745917",
     "status": "completed"
    },
    "tags": []
   },
   "outputs": [
    {
     "data": {
      "text/html": [
       "<div>\n",
       "<style scoped>\n",
       "    .dataframe tbody tr th:only-of-type {\n",
       "        vertical-align: middle;\n",
       "    }\n",
       "\n",
       "    .dataframe tbody tr th {\n",
       "        vertical-align: top;\n",
       "    }\n",
       "\n",
       "    .dataframe thead th {\n",
       "        text-align: right;\n",
       "    }\n",
       "</style>\n",
       "<table border=\"1\" class=\"dataframe\">\n",
       "  <thead>\n",
       "    <tr style=\"text-align: right;\">\n",
       "      <th></th>\n",
       "      <th>actor.state.game.kills</th>\n",
       "    </tr>\n",
       "    <tr>\n",
       "      <th>actor.state.game.character.name</th>\n",
       "      <th></th>\n",
       "    </tr>\n",
       "  </thead>\n",
       "  <tbody>\n",
       "    <tr>\n",
       "      <th>faceless void</th>\n",
       "      <td>5.775061</td>\n",
       "    </tr>\n",
       "    <tr>\n",
       "      <th>troll warlord</th>\n",
       "      <td>4.296460</td>\n",
       "    </tr>\n",
       "    <tr>\n",
       "      <th>puck</th>\n",
       "      <td>4.047619</td>\n",
       "    </tr>\n",
       "    <tr>\n",
       "      <th>zuus</th>\n",
       "      <td>3.786957</td>\n",
       "    </tr>\n",
       "    <tr>\n",
       "      <th>brewmaster</th>\n",
       "      <td>3.069364</td>\n",
       "    </tr>\n",
       "    <tr>\n",
       "      <th>pudge</th>\n",
       "      <td>2.646341</td>\n",
       "    </tr>\n",
       "    <tr>\n",
       "      <th>dazzle</th>\n",
       "      <td>2.521898</td>\n",
       "    </tr>\n",
       "    <tr>\n",
       "      <th>pangolier</th>\n",
       "      <td>2.318725</td>\n",
       "    </tr>\n",
       "    <tr>\n",
       "      <th>nyx assassin</th>\n",
       "      <td>2.181818</td>\n",
       "    </tr>\n",
       "    <tr>\n",
       "      <th>storm spirit</th>\n",
       "      <td>2.123656</td>\n",
       "    </tr>\n",
       "  </tbody>\n",
       "</table>\n",
       "</div>"
      ],
      "text/plain": [
       "                                 actor.state.game.kills\n",
       "actor.state.game.character.name                        \n",
       "faceless void                                  5.775061\n",
       "troll warlord                                  4.296460\n",
       "puck                                           4.047619\n",
       "zuus                                           3.786957\n",
       "brewmaster                                     3.069364\n",
       "pudge                                          2.646341\n",
       "dazzle                                         2.521898\n",
       "pangolier                                      2.318725\n",
       "nyx assassin                                   2.181818\n",
       "storm spirit                                   2.123656"
      ]
     },
     "execution_count": 6,
     "metadata": {},
     "output_type": "execute_result"
    }
   ],
   "source": [
    "# Select character name and deaths columns only, drop the other columns\n",
    "new_df = events.loc[:, ['actor.state.game.character.name', 'actor.state.game.deaths']]\n",
    "\n",
    "\n",
    "# Group the new dataframe by mean amt of deaths per character\n",
    "deaths_avg = new_df.groupby(['actor.state.game.character.name']).mean()\n",
    "\n",
    "# Sort the grouped DF by deaths and keep the top 10 characters \n",
    "char_deaths_sort =  deaths_avg.sort_values(by = 'actor.state.game.deaths' ,ascending=False)\n",
    "\n",
    "# Looking at the top 10 characters for graph and table\n",
    "top_ten_deaths = char_kills_sort.head(10)\n",
    "top_ten_deaths"
   ]
  },
  {
   "cell_type": "markdown",
   "id": "459c83ca",
   "metadata": {
    "papermill": {
     "duration": 0.008167,
     "end_time": "2023-08-30T18:00:51.790885",
     "exception": false,
     "start_time": "2023-08-30T18:00:51.782718",
     "status": "completed"
    },
    "tags": []
   },
   "source": [
    "## 2.1 Top 10 characters with the highest mean count of deaths per game"
   ]
  },
  {
   "cell_type": "code",
   "execution_count": 7,
   "id": "5c66677e",
   "metadata": {
    "execution": {
     "iopub.execute_input": "2023-08-30T18:00:51.809301Z",
     "iopub.status.busy": "2023-08-30T18:00:51.808579Z",
     "iopub.status.idle": "2023-08-30T18:00:52.134019Z",
     "shell.execute_reply": "2023-08-30T18:00:52.133133Z"
    },
    "papermill": {
     "duration": 0.336953,
     "end_time": "2023-08-30T18:00:52.136300",
     "exception": false,
     "start_time": "2023-08-30T18:00:51.799347",
     "status": "completed"
    },
    "tags": []
   },
   "outputs": [
    {
     "data": {
      "text/plain": [
       "<Axes: xlabel='actor.state.game.character.name'>"
      ]
     },
     "execution_count": 7,
     "metadata": {},
     "output_type": "execute_result"
    },
    {
     "data": {
      "image/png": "[encoded data removed]",
      "text/plain": [
       "<Figure size 1000x600 with 1 Axes>"
      ]
     },
     "metadata": {},
     "output_type": "display_data"
    }
   ],
   "source": [
    "# Using Pandas to plot bar chart\n",
    "top_ten_deaths.plot.bar(figsize = (10, 6), color='red')"
   ]
  },
  {
   "cell_type": "markdown",
   "id": "b8749149",
   "metadata": {
    "papermill": {
     "duration": 0.009778,
     "end_time": "2023-08-30T18:00:52.155388",
     "exception": false,
     "start_time": "2023-08-30T18:00:52.145610",
     "status": "completed"
    },
    "tags": []
   },
   "source": [
    "# 3. Which champions had the most assists per game? "
   ]
  },
  {
   "cell_type": "code",
   "execution_count": 8,
   "id": "01d09b3f",
   "metadata": {
    "execution": {
     "iopub.execute_input": "2023-08-30T18:00:52.174595Z",
     "iopub.status.busy": "2023-08-30T18:00:52.174310Z",
     "iopub.status.idle": "2023-08-30T18:00:52.191015Z",
     "shell.execute_reply": "2023-08-30T18:00:52.190061Z"
    },
    "papermill": {
     "duration": 0.028868,
     "end_time": "2023-08-30T18:00:52.193263",
     "exception": false,
     "start_time": "2023-08-30T18:00:52.164395",
     "status": "completed"
    },
    "tags": []
   },
   "outputs": [
    {
     "data": {
      "text/html": [
       "<div>\n",
       "<style scoped>\n",
       "    .dataframe tbody tr th:only-of-type {\n",
       "        vertical-align: middle;\n",
       "    }\n",
       "\n",
       "    .dataframe tbody tr th {\n",
       "        vertical-align: top;\n",
       "    }\n",
       "\n",
       "    .dataframe thead th {\n",
       "        text-align: right;\n",
       "    }\n",
       "</style>\n",
       "<table border=\"1\" class=\"dataframe\">\n",
       "  <thead>\n",
       "    <tr style=\"text-align: right;\">\n",
       "      <th></th>\n",
       "      <th>actor.state.game.killAssistsGiven</th>\n",
       "    </tr>\n",
       "    <tr>\n",
       "      <th>actor.state.game.character.name</th>\n",
       "      <th></th>\n",
       "    </tr>\n",
       "  </thead>\n",
       "  <tbody>\n",
       "    <tr>\n",
       "      <th>zuus</th>\n",
       "      <td>10.400000</td>\n",
       "    </tr>\n",
       "    <tr>\n",
       "      <th>tiny</th>\n",
       "      <td>8.923077</td>\n",
       "    </tr>\n",
       "    <tr>\n",
       "      <th>nyx assassin</th>\n",
       "      <td>8.125000</td>\n",
       "    </tr>\n",
       "    <tr>\n",
       "      <th>tusk</th>\n",
       "      <td>7.506562</td>\n",
       "    </tr>\n",
       "    <tr>\n",
       "      <th>winter wyvern</th>\n",
       "      <td>6.603854</td>\n",
       "    </tr>\n",
       "    <tr>\n",
       "      <th>brewmaster</th>\n",
       "      <td>6.352601</td>\n",
       "    </tr>\n",
       "    <tr>\n",
       "      <th>faceless void</th>\n",
       "      <td>6.200489</td>\n",
       "    </tr>\n",
       "    <tr>\n",
       "      <th>pudge</th>\n",
       "      <td>4.481707</td>\n",
       "    </tr>\n",
       "    <tr>\n",
       "      <th>enigma</th>\n",
       "      <td>4.308333</td>\n",
       "    </tr>\n",
       "    <tr>\n",
       "      <th>snapfire</th>\n",
       "      <td>4.219828</td>\n",
       "    </tr>\n",
       "  </tbody>\n",
       "</table>\n",
       "</div>"
      ],
      "text/plain": [
       "                                 actor.state.game.killAssistsGiven\n",
       "actor.state.game.character.name                                   \n",
       "zuus                                                     10.400000\n",
       "tiny                                                      8.923077\n",
       "nyx assassin                                              8.125000\n",
       "tusk                                                      7.506562\n",
       "winter wyvern                                             6.603854\n",
       "brewmaster                                                6.352601\n",
       "faceless void                                             6.200489\n",
       "pudge                                                     4.481707\n",
       "enigma                                                    4.308333\n",
       "snapfire                                                  4.219828"
      ]
     },
     "execution_count": 8,
     "metadata": {},
     "output_type": "execute_result"
    }
   ],
   "source": [
    "# Select character name and kills columns only, drop the other columns\n",
    "new_df = events.loc[:, ['actor.state.game.character.name', 'actor.state.game.killAssistsGiven']]\n",
    "\n",
    "\n",
    "# Group the new dataframe by mean amt of kills per character\n",
    "assists_avg = new_df.groupby(['actor.state.game.character.name']).mean()\n",
    "\n",
    "# Sort the grouped DF by kills and keep the top 10 characters \n",
    "char_assists_sort =  assists_avg.sort_values(by = 'actor.state.game.killAssistsGiven' ,ascending=False)\n",
    "top_ten_assists = char_assists_sort.head(10)\n",
    "top_ten_assists\n"
   ]
  },
  {
   "cell_type": "markdown",
   "id": "eb6c8b90",
   "metadata": {
    "papermill": {
     "duration": 0.009179,
     "end_time": "2023-08-30T18:00:52.212221",
     "exception": false,
     "start_time": "2023-08-30T18:00:52.203042",
     "status": "completed"
    },
    "tags": []
   },
   "source": [
    "## 3.1 Top 10 characters with the highest mean count of assists given per game"
   ]
  },
  {
   "cell_type": "code",
   "execution_count": 9,
   "id": "66700d7d",
   "metadata": {
    "execution": {
     "iopub.execute_input": "2023-08-30T18:00:52.232908Z",
     "iopub.status.busy": "2023-08-30T18:00:52.232159Z",
     "iopub.status.idle": "2023-08-30T18:00:52.569244Z",
     "shell.execute_reply": "2023-08-30T18:00:52.568355Z"
    },
    "papermill": {
     "duration": 0.34937,
     "end_time": "2023-08-30T18:00:52.571191",
     "exception": false,
     "start_time": "2023-08-30T18:00:52.221821",
     "status": "completed"
    },
    "tags": []
   },
   "outputs": [
    {
     "data": {
      "text/plain": [
       "<Axes: xlabel='actor.state.game.character.name'>"
      ]
     },
     "execution_count": 9,
     "metadata": {},
     "output_type": "execute_result"
    },
    {
     "data": {
      "image/png": "[encoded data removed]",
      "text/plain": [
       "<Figure size 1000x600 with 1 Axes>"
      ]
     },
     "metadata": {},
     "output_type": "display_data"
    }
   ],
   "source": [
    "# Using Pandas to plot bar chart\n",
    "top_ten_assists.plot.bar(figsize = (10, 6), color='green')"
   ]
  },
  {
   "cell_type": "markdown",
   "id": "a08256a0",
   "metadata": {
    "papermill": {
     "duration": 0.009712,
     "end_time": "2023-08-30T18:00:52.591200",
     "exception": false,
     "start_time": "2023-08-30T18:00:52.581488",
     "status": "completed"
    },
    "tags": []
   },
   "source": [
    "# 4. Highest KDA by character\n",
    "\n",
    "Now that we have `kills_avg`, `deaths_avg`, and `assists_avg`, we can calculate KDA per character by using the equation \n",
    "\n",
    "$KDA = (Kills + Assists) / Death$\n",
    "\n"
   ]
  },
  {
   "cell_type": "code",
   "execution_count": 10,
   "id": "252ec1fb",
   "metadata": {
    "execution": {
     "iopub.execute_input": "2023-08-30T18:00:52.612487Z",
     "iopub.status.busy": "2023-08-30T18:00:52.611688Z",
     "iopub.status.idle": "2023-08-30T18:00:52.630628Z",
     "shell.execute_reply": "2023-08-30T18:00:52.629462Z"
    },
    "papermill": {
     "duration": 0.032064,
     "end_time": "2023-08-30T18:00:52.632983",
     "exception": false,
     "start_time": "2023-08-30T18:00:52.600919",
     "status": "completed"
    },
    "tags": []
   },
   "outputs": [
    {
     "data": {
      "text/html": [
       "<div>\n",
       "<style scoped>\n",
       "    .dataframe tbody tr th:only-of-type {\n",
       "        vertical-align: middle;\n",
       "    }\n",
       "\n",
       "    .dataframe tbody tr th {\n",
       "        vertical-align: top;\n",
       "    }\n",
       "\n",
       "    .dataframe thead th {\n",
       "        text-align: right;\n",
       "    }\n",
       "</style>\n",
       "<table border=\"1\" class=\"dataframe\">\n",
       "  <thead>\n",
       "    <tr style=\"text-align: right;\">\n",
       "      <th></th>\n",
       "      <th>KDA</th>\n",
       "    </tr>\n",
       "    <tr>\n",
       "      <th>actor.state.game.character.name</th>\n",
       "      <th></th>\n",
       "    </tr>\n",
       "  </thead>\n",
       "  <tbody>\n",
       "    <tr>\n",
       "      <th>zuus</th>\n",
       "      <td>10.400000</td>\n",
       "    </tr>\n",
       "    <tr>\n",
       "      <th>tiny</th>\n",
       "      <td>8.923077</td>\n",
       "    </tr>\n",
       "    <tr>\n",
       "      <th>nyx assassin</th>\n",
       "      <td>8.125000</td>\n",
       "    </tr>\n",
       "    <tr>\n",
       "      <th>tusk</th>\n",
       "      <td>7.506562</td>\n",
       "    </tr>\n",
       "    <tr>\n",
       "      <th>winter wyvern</th>\n",
       "      <td>6.603854</td>\n",
       "    </tr>\n",
       "    <tr>\n",
       "      <th>brewmaster</th>\n",
       "      <td>6.352601</td>\n",
       "    </tr>\n",
       "    <tr>\n",
       "      <th>faceless void</th>\n",
       "      <td>6.200489</td>\n",
       "    </tr>\n",
       "    <tr>\n",
       "      <th>faceless void</th>\n",
       "      <td>5.775061</td>\n",
       "    </tr>\n",
       "    <tr>\n",
       "      <th>pudge</th>\n",
       "      <td>4.481707</td>\n",
       "    </tr>\n",
       "    <tr>\n",
       "      <th>enigma</th>\n",
       "      <td>4.308333</td>\n",
       "    </tr>\n",
       "  </tbody>\n",
       "</table>\n",
       "</div>"
      ],
      "text/plain": [
       "                                       KDA\n",
       "actor.state.game.character.name           \n",
       "zuus                             10.400000\n",
       "tiny                              8.923077\n",
       "nyx assassin                      8.125000\n",
       "tusk                              7.506562\n",
       "winter wyvern                     6.603854\n",
       "brewmaster                        6.352601\n",
       "faceless void                     6.200489\n",
       "faceless void                     5.775061\n",
       "pudge                             4.481707\n",
       "enigma                            4.308333"
      ]
     },
     "execution_count": 10,
     "metadata": {},
     "output_type": "execute_result"
    }
   ],
   "source": [
    "# Combining all avg tables into 1\n",
    "table_all = pd.concat([kills_avg, assists_avg,deaths_avg], axis=0).fillna(0) # .fillna(0) is used to fill all NaN values with 0 instead (for calculation purposes)\n",
    "\n",
    "# Calculating KD\n",
    "# Creating a new column that is the sum of average kills and assists called KD\n",
    "table_all['KA'] = table_all['actor.state.game.kills'] + table_all['actor.state.game.killAssistsGiven']\n",
    "\n",
    "# Calculating KDA \n",
    "# If a character has 0 deaths, replace 0 with 1 for calculation purposes. (The equation will res in inf if divisor is 0)\n",
    "table_all['actor.state.game.deaths'] = table_all['actor.state.game.deaths'].replace(0,1)\n",
    "\n",
    "# Creating KA and d variables for model use\n",
    "ka_top10 = table_all['KA']\n",
    "death_top10 = table_all['actor.state.game.deaths']\n",
    "\n",
    "# Creating a new column that is given by the equation (KD / deaths), called KDA\n",
    "table_all['KDA'] = table_all['KA'] / table_all['actor.state.game.deaths']\n",
    "\n",
    "# Drop all columns except KDA\n",
    "kda = table_all.loc[:, ['KDA']]\n",
    "# Sort by ascending\n",
    "kda_sorted = kda.sort_values(by = 'KDA' ,ascending=False)\n",
    "# Look at top 10 champs with highest KDA \n",
    "kda_top10 = kda_sorted.head(10)\n",
    "kda_top10"
   ]
  },
  {
   "cell_type": "markdown",
   "id": "3a58de9e",
   "metadata": {
    "papermill": {
     "duration": 0.009803,
     "end_time": "2023-08-30T18:00:52.653678",
     "exception": false,
     "start_time": "2023-08-30T18:00:52.643875",
     "status": "completed"
    },
    "tags": []
   },
   "source": [
    "## 4.1 Top 10 characters with the highest mean KDA"
   ]
  },
  {
   "cell_type": "code",
   "execution_count": 11,
   "id": "cd6698a0",
   "metadata": {
    "execution": {
     "iopub.execute_input": "2023-08-30T18:00:52.675623Z",
     "iopub.status.busy": "2023-08-30T18:00:52.674842Z",
     "iopub.status.idle": "2023-08-30T18:00:52.992473Z",
     "shell.execute_reply": "2023-08-30T18:00:52.991544Z"
    },
    "papermill": {
     "duration": 0.33068,
     "end_time": "2023-08-30T18:00:52.994714",
     "exception": false,
     "start_time": "2023-08-30T18:00:52.664034",
     "status": "completed"
    },
    "tags": []
   },
   "outputs": [
    {
     "data": {
      "text/plain": [
       "<Axes: xlabel='actor.state.game.character.name'>"
      ]
     },
     "execution_count": 11,
     "metadata": {},
     "output_type": "execute_result"
    },
    {
     "data": {
      "image/png": "[encoded data removed]",
      "text/plain": [
       "<Figure size 1000x600 with 1 Axes>"
      ]
     },
     "metadata": {},
     "output_type": "display_data"
    }
   ],
   "source": [
    "kda_top10.plot.bar(figsize = (10, 6), color='orange')"
   ]
  },
  {
   "cell_type": "markdown",
   "id": "e5fac2ab",
   "metadata": {
    "papermill": {
     "duration": 0.010448,
     "end_time": "2023-08-30T18:00:53.016241",
     "exception": false,
     "start_time": "2023-08-30T18:00:53.005793",
     "status": "completed"
    },
    "tags": []
   },
   "source": [
    "# Using linear regression using Kill + Assists to predict death by champion"
   ]
  },
  {
   "cell_type": "markdown",
   "id": "d2aa64e0",
   "metadata": {
    "papermill": {
     "duration": 0.010464,
     "end_time": "2023-08-30T18:00:53.037167",
     "exception": false,
     "start_time": "2023-08-30T18:00:53.026703",
     "status": "completed"
    },
    "tags": []
   },
   "source": []
  },
  {
   "cell_type": "code",
   "execution_count": 12,
   "id": "940aa7f2",
   "metadata": {
    "execution": {
     "iopub.execute_input": "2023-08-30T18:00:53.059556Z",
     "iopub.status.busy": "2023-08-30T18:00:53.059273Z",
     "iopub.status.idle": "2023-08-30T18:00:54.171904Z",
     "shell.execute_reply": "2023-08-30T18:00:54.170825Z"
    },
    "papermill": {
     "duration": 1.126459,
     "end_time": "2023-08-30T18:00:54.174254",
     "exception": false,
     "start_time": "2023-08-30T18:00:53.047795",
     "status": "completed"
    },
    "tags": []
   },
   "outputs": [
    {
     "name": "stderr",
     "output_type": "stream",
     "text": [
      "/opt/conda/lib/python3.10/site-packages/scipy/__init__.py:146: UserWarning: A NumPy version >=1.16.5 and <1.23.0 is required for this version of SciPy (detected version 1.23.5\n",
      "  warnings.warn(f\"A NumPy version >={np_minversion} and <{np_maxversion}\"\n"
     ]
    },
    {
     "name": "stdout",
     "output_type": "stream",
     "text": [
      "(75, 1) (75,)\n"
     ]
    }
   ],
   "source": [
    "import numpy as np\n",
    "from sklearn.linear_model import LinearRegression\n",
    "\n",
    "# Provide data\n",
    "X = np.array(ka_top10).reshape(-1, 1) # Using top 10 K+A \n",
    "y = np.array(death_top10) # Using deaths as y variable\n",
    "\n",
    "print(X.shape, y.shape)"
   ]
  },
  {
   "cell_type": "code",
   "execution_count": 13,
   "id": "043878b5",
   "metadata": {
    "execution": {
     "iopub.execute_input": "2023-08-30T18:00:54.198780Z",
     "iopub.status.busy": "2023-08-30T18:00:54.198248Z",
     "iopub.status.idle": "2023-08-30T18:00:54.220325Z",
     "shell.execute_reply": "2023-08-30T18:00:54.219073Z"
    },
    "papermill": {
     "duration": 0.03663,
     "end_time": "2023-08-30T18:00:54.222671",
     "exception": false,
     "start_time": "2023-08-30T18:00:54.186041",
     "status": "completed"
    },
    "tags": []
   },
   "outputs": [
    {
     "name": "stdout",
     "output_type": "stream",
     "text": [
      "coefficient of determination: 0.051826224700031176\n"
     ]
    }
   ],
   "source": [
    "# Create model and fit\n",
    "model = LinearRegression()\n",
    "model.fit(X,y)\n",
    "\n",
    "# Score of the model\n",
    "r_sq = model.score(X, y)\n",
    "print(f\"coefficient of determination: {r_sq}\")"
   ]
  },
  {
   "cell_type": "code",
   "execution_count": null,
   "id": "a86a3cf2",
   "metadata": {
    "papermill": {
     "duration": 0.012815,
     "end_time": "2023-08-30T18:00:54.246839",
     "exception": false,
     "start_time": "2023-08-30T18:00:54.234024",
     "status": "completed"
    },
    "tags": []
   },
   "outputs": [],
   "source": []
  }
 ],
 "kernelspec": {
  "display_name": "Python 3",
  "language": "python",
  "name": "python3"
 },
 "language_info": {
  "codemirror_mode": {
   "name": "ipython",
   "version": 3
  },
  "file_extension": ".py",
  "mimetype": "text/x-python",
  "name": "python",
  "nbconvert_exporter": "python",
  "pygments_lexer": "ipython3",
  "version": "3.6.4"
 },
 "metadata": {
  "kernelspec": {
   "display_name": "Python 3",
   "language": "python",
   "name": "python3"
  },
  "language_info": {
   "codemirror_mode": {
    "name": "ipython",
    "version": 3
   },
   "file_extension": ".py",
   "mimetype": "text/x-python",
   "name": "python",
   "nbconvert_exporter": "python",
   "pygments_lexer": "ipython3",
   "version": "3.10.12"
  },
  "papermill": {
   "default_parameters": {},
   "duration": 308.976699,
   "end_time": "2023-08-30T18:00:57.178248",
   "environment_variables": {},
   "exception": null,
   "input_path": "__notebook__.ipynb",
   "output_path": "__notebook__.ipynb",
   "parameters": {},
   "start_time": "2023-08-30T17:55:48.201549",
   "version": "2.4.0"
  }
 },
 "nbformat": 4,
 "nbformat_minor": 5
}
